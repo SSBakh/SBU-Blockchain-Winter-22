{
  "metadata": {
    "language_info": {
      "codemirror_mode": {
        "name": "python",
        "version": 3
      },
      "file_extension": ".py",
      "mimetype": "text/x-python",
      "name": "python",
      "nbconvert_exporter": "python",
      "pygments_lexer": "ipython3",
      "version": "3.8"
    },
    "kernelspec": {
      "name": "python",
      "display_name": "Python (Pyodide)",
      "language": "python"
    }
  },
  "nbformat_minor": 4,
  "nbformat": 4,
  "cells": [
    {
      "cell_type": "code",
      "source": "# Import hash library\nimport hashlib",
      "metadata": {
        "trusted": true
      },
      "execution_count": null,
      "outputs": []
    },
    {
      "cell_type": "code",
      "source": "# Define crypto class with one method\nclass Block:\n    # Method for mine a block\n    # Get a block and date and previous hash(can be None - for future features)\n    # Return correct nonce and hash\n    def mine(self, block, data, previous_hash=None):\n        # Initialize nonce\n        nonce = 0\n        # look for correct nonce with greedy algorithm\n        while True:\n            # create a string from data to be hashed\n            hashingData = str(block) + str(nonce) + data\n            if previous_hash is not None:\n                hashingData += previous_hash\n            # hash data using sha256 algorithm and get the hex of hashed value\n            hash = hashlib.sha256(hashingData.encode()).hexdigest()\n            # check if hash hexadecimal value starts with 4 zeros\n            if hash[:4] == '0000':\n                # nonce is correct, and we will return the nonce and the hash\n                return {\"hash\": hash, \"nonce\": nonce}\n            nonce += 1",
      "metadata": {
        "trusted": true
      },
      "execution_count": null,
      "outputs": []
    }
  ]
}