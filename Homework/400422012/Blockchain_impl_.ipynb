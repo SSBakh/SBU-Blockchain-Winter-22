{
  "nbformat": 4,
  "nbformat_minor": 0,
  "metadata": {
    "colab": {
      "provenance": []
    },
    "kernelspec": {
      "name": "python3",
      "display_name": "Python 3"
    },
    "language_info": {
      "name": "python"
    }
  },
  "cells": [
    {
      "cell_type": "code",
      "execution_count": null,
      "metadata": {
        "colab": {
          "base_uri": "https://localhost:8080/"
        },
        "id": "IBSW8it-JOEk",
        "outputId": "8182ca33-84e3-47b8-f0d7-a4edafca7b4e"
      },
      "outputs": [
        {
          "output_type": "stream",
          "name": "stdout",
          "text": [
            "Looking in indexes: https://pypi.org/simple, https://us-python.pkg.dev/colab-wheels/public/simple/\n",
            "Collecting cryptography\n",
            "  Downloading cryptography-38.0.3-cp36-abi3-manylinux_2_24_x86_64.whl (4.1 MB)\n",
            "\u001b[K     |████████████████████████████████| 4.1 MB 17.4 MB/s \n",
            "\u001b[?25hRequirement already satisfied: cffi>=1.12 in /usr/local/lib/python3.7/dist-packages (from cryptography) (1.15.1)\n",
            "Requirement already satisfied: pycparser in /usr/local/lib/python3.7/dist-packages (from cffi>=1.12->cryptography) (2.21)\n",
            "Installing collected packages: cryptography\n",
            "Successfully installed cryptography-38.0.3\n"
          ]
        }
      ],
      "source": [
        "!pip install cryptography\n"
      ]
    },
    {
      "cell_type": "code",
      "source": [
        "#Import dependency\n",
        "from cryptography.hazmat.primitives.asymmetric import rsa, padding\n",
        "from cryptography.hazmat.primitives import serialization, hashes\n",
        "from cryptography import exceptions\n"
      ],
      "metadata": {
        "id": "GynBelad2WhM"
      },
      "execution_count": null,
      "outputs": []
    },
    {
      "cell_type": "markdown",
      "source": [
        "###1.1. Generating RSA public key and private key"
      ],
      "metadata": {
        "id": "usPKkJSa3u3V"
      }
    },
    {
      "cell_type": "code",
      "source": [
        "# Generates a RSA keypair using the cryptography lib and returns a key tuple (public, private)\n",
        "  \n",
        "def keygen():\n",
        "  \n",
        "  pv_key = rsa.generate_private_key(public_exponent=65537,key_size=1024)\n",
        "  pub_key = pv_key.public_key()\n",
        "\n",
        "  return (pv_key, pub_key) "
      ],
      "metadata": {
        "id": "d60H-gXBFami"
      },
      "execution_count": null,
      "outputs": []
    },
    {
      "cell_type": "markdown",
      "source": [
        "### 1.2. Signing a message by private key"
      ],
      "metadata": {
        "id": "8HGMzEJAGUcY"
      }
    },
    {
      "cell_type": "code",
      "source": [
        "# Signs a message by a RSA private key\n",
        "\n",
        "def sign(message, private) :\n",
        "\n",
        "  sig = private.sign(message,padding.PSS(mgf=padding.MGF1(hashes.SHA256()), salt_length=padding.PSS.MAX_LENGTH),hashes.SHA256())\n",
        "  return sig\n",
        "\n",
        "\n"
      ],
      "metadata": {
        "id": "lVgqSOliHrA5"
      },
      "execution_count": null,
      "outputs": []
    },
    {
      "cell_type": "markdown",
      "source": [
        "###1.3 RSA signature verification by public key"
      ],
      "metadata": {
        "id": "CGyXXnGgbn_W"
      }
    },
    {
      "cell_type": "code",
      "source": [
        "# Verifies a signature by a RSA public key\n",
        "\n",
        "def verify(message, public, signature) :\n",
        "  try:\n",
        "    public.verify(signature,message,padding.PSS(mgf=padding.MGF1(hashes.SHA256()),salt_length=padding.PSS.MAX_LENGTH),hashes.SHA256())\n",
        "  except exceptions.InvalidSignature:\n",
        "    print(\"Signature verification failed\",)\n",
        "  else:\n",
        "    print(\"Signature verified\")\n",
        "  return\n"
      ],
      "metadata": {
        "id": "9CQHVld-mgyf"
      },
      "execution_count": null,
      "outputs": []
    },
    {
      "cell_type": "markdown",
      "source": [
        "Test:"
      ],
      "metadata": {
        "id": "N60l93Wud5-E"
      }
    },
    {
      "cell_type": "code",
      "source": [
        "message = b\"Hello world\"\n",
        "privkey, pubkey = keygen()\n",
        "signature = sign(message,privkey)\n",
        "verify(message, pubkey, signature)\n"
      ],
      "metadata": {
        "colab": {
          "base_uri": "https://localhost:8080/"
        },
        "id": "iWEW1ZHYmpJ1",
        "outputId": "39653be3-1cba-4e18-ac0b-ef9a567ed2f0"
      },
      "execution_count": null,
      "outputs": [
        {
          "output_type": "stream",
          "name": "stdout",
          "text": [
            "Signature verified\n"
          ]
        }
      ]
    },
    {
      "cell_type": "markdown",
      "source": [
        "###2.1. Block mining simulation"
      ],
      "metadata": {
        "id": "bZO7xiLMCIXj"
      }
    },
    {
      "cell_type": "code",
      "source": [
        "# This function takes a block number and some block data as input and returns a valid nounce (i.e., a nounce that yields a hash output starting with '0000')\n",
        "def mine (block_num , block_data) :\n",
        "  data = str(block_num) + str(block_data)\n",
        "\n",
        "  nounce = 0\n",
        "  found = 0\n",
        "\n",
        "  while found == 0:\n",
        "    hash_input = data + str(nounce)\n",
        "    hash_input_bytes = bytes(hash_input, 'utf-8')\n",
        "    digest = hashes.Hash(hashes.SHA256())\n",
        "    digest.update(hash_input_bytes)\n",
        "    hash_output = digest.finalize()\n",
        "    hash_output_hex = hash_output.hex()\n",
        "    if hash_output_hex[:4] == '0000': \n",
        "      found = 1\n",
        "      break\n",
        "    nounce += 1\n",
        "\n",
        "\n",
        "  print(nounce)\n",
        "  print(hash_output_hex)\n",
        "\n",
        "  return\n",
        "\n",
        "\n",
        "  \n"
      ],
      "metadata": {
        "id": "zZea9_ZxBza6"
      },
      "execution_count": null,
      "outputs": []
    },
    {
      "cell_type": "markdown",
      "source": [
        "Test:"
      ],
      "metadata": {
        "id": "QkJfmIzKczZA"
      }
    },
    {
      "cell_type": "code",
      "source": [
        "mine(12, \"hello\")"
      ],
      "metadata": {
        "colab": {
          "base_uri": "https://localhost:8080/"
        },
        "id": "2Zdr_b5ZVnHd",
        "outputId": "9509522e-b865-4922-b0ec-89301cd5ff27"
      },
      "execution_count": null,
      "outputs": [
        {
          "output_type": "stream",
          "name": "stdout",
          "text": [
            "28592\n",
            "000072a7327eec0583b858d6541d7fed509d76a2d1be6c9b01a9042370516921\n"
          ]
        }
      ]
    },
    {
      "cell_type": "markdown",
      "source": [
        "###2.2. Nounce verification"
      ],
      "metadata": {
        "id": "r2GVrg8-dAPT"
      }
    },
    {
      "cell_type": "code",
      "source": [
        "def verify_nounce (block_num, block_data, nounce):\n",
        "   data = str(block_num) + str(block_data) + str (nounce)\n",
        "\n",
        "   hash_input = bytes(data, 'utf-8')\n",
        "   digest = hashes.Hash(hashes.SHA256())\n",
        "   digest.update(hash_input) \n",
        "   hash_output = digest.finalize()\n",
        "   hash_output_hex = hash_output.hex()\n",
        "   if hash_output_hex[:4] == '0000': \n",
        "     print(\"Nounce is valid\")\n",
        "   else:\n",
        "     print(\"Nounce is not valid\")\n",
        "\n",
        "   return"
      ],
      "metadata": {
        "id": "gA4OqsALdHdv"
      },
      "execution_count": null,
      "outputs": []
    },
    {
      "cell_type": "markdown",
      "source": [
        "Test"
      ],
      "metadata": {
        "id": "GQC_xLJQ-y_B"
      }
    },
    {
      "cell_type": "code",
      "source": [
        "\n",
        "verify_nounce (12, \"hello\", 28592)\n",
        "verify_nounce (12, \"hello\", 28593)\n"
      ],
      "metadata": {
        "colab": {
          "base_uri": "https://localhost:8080/"
        },
        "id": "GPDajrq89KN-",
        "outputId": "10812a78-773f-4c39-db45-1d52f9332082"
      },
      "execution_count": null,
      "outputs": [
        {
          "output_type": "stream",
          "name": "stdout",
          "text": [
            "Nounce is valid\n",
            "Nounce is not valid\n"
          ]
        }
      ]
    }
  ]
}