{
 "cells": [
  {
   "cell_type": "markdown",
   "metadata": {},
   "source": [
    "# Exercise 2 : Block Mining Task"
   ]
  },
  {
   "cell_type": "markdown",
   "metadata": {},
   "source": [
    "Importing class **Block** from [Block](/Modules/Block.py) module from [Modules](/Modules/) directory:"
   ]
  },
  {
   "cell_type": "code",
   "execution_count": 1,
   "metadata": {},
   "outputs": [],
   "source": [
    "from Modules.Block import Block"
   ]
  },
  {
   "cell_type": "markdown",
   "metadata": {},
   "source": [
    "At first let's instantiate an object from the **Block** class using its constructor:"
   ]
  },
  {
   "cell_type": "code",
   "execution_count": 2,
   "metadata": {},
   "outputs": [],
   "source": [
    "myblock = Block(blocknumber = 1, data = \"this is a record!\")"
   ]
  },
  {
   "cell_type": "markdown",
   "metadata": {},
   "source": [
    "Then let's check what the current digest of the block is (default nonce = 0 and without invoking the mining function)"
   ]
  },
  {
   "cell_type": "code",
   "execution_count": 3,
   "metadata": {},
   "outputs": [
    {
     "name": "stdout",
     "output_type": "stream",
     "text": [
      "Current nonce of the block before mining: b'0'\n",
      "Current digest of the block before mining: 361fac60d31e3cf9c501144d47e64c0eddd6d2308bc25fd9b27beea35746e271\n"
     ]
    }
   ],
   "source": [
    "myblock.blockdigestfunction()\n",
    "print(f\"Current nonce of the block before mining: {myblock.nonce}\")\n",
    "print(f\"Current digest of the block before mining: {myblock.finalhash}\")"
   ]
  },
  {
   "cell_type": "markdown",
   "metadata": {},
   "source": [
    "Now let's mine the block and print the final nonce and the final hash. The final hash is expected to start with \"0000\")"
   ]
  },
  {
   "cell_type": "code",
   "execution_count": 4,
   "metadata": {},
   "outputs": [
    {
     "name": "stdout",
     "output_type": "stream",
     "text": [
      "Final nonce of the block after mining:b'21911'\n",
      "Final hash of the block after mining: 0000aab1b426f7778cb08169ceca30a4b3732a10200761b618a4c7a8ce723004\n"
     ]
    }
   ],
   "source": [
    "print(f\"Final nonce of the block after mining:{myblock.mine()}\")\n",
    "print(f\"Final hash of the block after mining: {myblock.finalhash}\")"
   ]
  }
 ],
 "metadata": {
  "kernelspec": {
   "display_name": "Python 3.9.13 64-bit (microsoft store)",
   "language": "python",
   "name": "python3"
  },
  "language_info": {
   "codemirror_mode": {
    "name": "ipython",
    "version": 3
   },
   "file_extension": ".py",
   "mimetype": "text/x-python",
   "name": "python",
   "nbconvert_exporter": "python",
   "pygments_lexer": "ipython3",
   "version": "3.9.13"
  },
  "orig_nbformat": 4,
  "vscode": {
   "interpreter": {
    "hash": "a5a87ee616be0254e3f1af9223138e3faeac65b2c9d91bc22a9fc5a4a8bd8eb0"
   }
  }
 },
 "nbformat": 4,
 "nbformat_minor": 2
}
