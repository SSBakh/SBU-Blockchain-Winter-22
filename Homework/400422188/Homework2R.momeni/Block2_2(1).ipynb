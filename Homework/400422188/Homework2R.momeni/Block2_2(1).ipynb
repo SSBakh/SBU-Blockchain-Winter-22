{
  "nbformat": 4,
  "nbformat_minor": 0,
  "metadata": {
    "colab": {
      "provenance": []
    },
    "kernelspec": {
      "name": "python3",
      "display_name": "Python 3"
    },
    "language_info": {
      "name": "python"
    }
  },
  "cells": [
    {
      "cell_type": "code",
      "execution_count": 78,
      "metadata": {
        "id": "Pil6tWtvX3eE",
        "colab": {
          "base_uri": "https://localhost:8080/"
        },
        "outputId": "9740ae25-fd57-442d-8001-f088d00f1b4a"
      },
      "outputs": [
        {
          "output_type": "stream",
          "name": "stdout",
          "text": [
            "{'hash': '0000e99e2d9c26323ba26c6db3dc4ba8da7a071c075dc6bed6d8b0aa475a2ad8', 'number': 1, 'data': 'Raz Mon', 'nonce': 145405}\n",
            "{'hash': '00009d628ce61aa4047afc1f7831e5f2d71912ea3a80054cbc4f53cfae4f1427', 'number': 2, 'data': 'R', 'nonce': 37857}\n",
            "{'hash': '0000d9f54740a2317b53b890ce9aaed7393023937e94ad99b818f09c1d71e314', 'number': 3, 'data': 'M', 'nonce': 37918}\n",
            "{'hash': '000037cddf26191e66800d8b54bc3eded751d98fac5b8abea45e9db64e821f1d', 'number': 4, 'data': 'RM', 'nonce': 38783}\n"
          ]
        }
      ],
      "source": [
        "from hashlib import sha256\n",
        "\n",
        "def updatehash(*args):\n",
        "   hashing_text = \"\"; h=sha256()\n",
        "   for arg in args:\n",
        "      hashing_text += str(arg)\n",
        "   h.update(hashing_text.encode('utf-8'))\n",
        "   return h.hexdigest()\n",
        "\n",
        "\n",
        "class Block():\n",
        "   data = None\n",
        "   hash = None\n",
        "   nonce = 0\n",
        "   previous_hash = \"0\" * 64\n",
        "\n",
        "   def __init__(self,data,number=0):\n",
        "      self.data = data\n",
        "      self.number = number  \n",
        "      \n",
        "   def hash(self):\n",
        "        return updatehash(self.previous_hash,\n",
        "                          self.number , \n",
        "                          self.data , \n",
        "                          self.nonce)\n",
        "  \n",
        "   def __str__(self):\n",
        "       return str(\"Block#: %s\\nHash: %s\\nPrevious: %s\\nData: %s\\nNonce: %s\\n\"\n",
        "        %(self.number,\n",
        "          self.hash(),\n",
        "          self.previous_hash,\n",
        "          self.data,\n",
        "          self.nonce))\n",
        "                                                                                \n",
        "class Blockchain():\n",
        "    difficulty = 4\n",
        "\n",
        "    def __init__(self,chain=[]):\n",
        "        self.chain = chain\n",
        "\n",
        "    def add(self,block):\n",
        "        self.chain.append({\n",
        "        'hash': block.hash(),\n",
        "        'number': block.number,\n",
        "        'data': block.data,\n",
        "        'nonce': block.nonce\n",
        "        })\n",
        "\n",
        "    def mine(self , block):\n",
        "            try:\n",
        "              block.previous_hash = self.chain[-1].get('hash')\n",
        "            except IndexError:\n",
        "              pass\n",
        "\n",
        "            while True:\n",
        "                 if block.hash()[:4] == \"0\" * self.difficulty:\n",
        "                    self.add(block); break\n",
        "                 else:\n",
        "                    block.nonce += 1\n",
        "  \n",
        "def main():\n",
        "  blockchain = Blockchain()\n",
        "  database = [\"Raz Mon\" , \"R\" , \"M\" , \"RM\"]\n",
        "  num = 0\n",
        "  for data in database:\n",
        "    num += 1\n",
        "    blockchain.mine(Block(data,num))\n",
        "  for block in blockchain.chain:\n",
        "    print(block)\n",
        "main() \n"
      ]
    },
    {
      "cell_type": "markdown",
      "source": [
        "using sha256 hash for the blockchain\n",
        "default data for block defined in constructor\n",
        "in def str, returns a string of the block's data. Useful for diagnostic print statements.\n",
        " put a string for returning the block's data\n",
        "the number of zeros in front of each hash is shown by \"difficulty\"\n",
        "in \"add\" I add a new block to the chain\n",
        "for data I choose 4 strings that are shown in result."
      ],
      "metadata": {
        "id": "1BSgjA8jj0Z3"
      }
    }
  ]
}