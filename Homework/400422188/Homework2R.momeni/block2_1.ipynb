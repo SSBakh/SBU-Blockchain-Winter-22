{
  "nbformat": 4,
  "nbformat_minor": 0,
  "metadata": {
    "colab": {
      "provenance": [],
      "toc_visible": true
    },
    "kernelspec": {
      "name": "python3",
      "display_name": "Python 3"
    },
    "language_info": {
      "name": "python"
    }
  },
  "cells": [
    {
      "cell_type": "code",
      "execution_count": null,
      "metadata": {
        "id": "G7LKxSfBZ_cS"
      },
      "outputs": [],
      "source": [
        "#from cryptography.fernet import Fernet\n",
        "import rsa\n",
        "public_key,private_key = rsa.newkeys(1024)\n",
        "\n",
        "with open(\"public.pem\", \"wb\") as f:\n",
        "  f.write(public_key.save_pkcs1(\"PEM\"))\n",
        "\n",
        "with open(\"private.pem\", \"wb\") as f:\n",
        "  f.write(private_key.save_pkcs1(\"PEM\"))\n"
      ]
    },
    {
      "cell_type": "markdown",
      "source": [
        "making private & public key\n",
        "export these keys to files \n",
        "in format pem"
      ],
      "metadata": {
        "id": "PclcQYMpde39"
      }
    },
    {
      "cell_type": "code",
      "source": [
        "with open(\"public.pem\", \"rb\") as f:\n",
        "  public_key = rsa.PublicKey.load_pkcs1(f.read())\n",
        "\n",
        "with open(\"private.pem\", \"rb\") as f:\n",
        "  private_key = rsa.PrivateKey.load_pkcs1(f.read())\n",
        "\n",
        "#message = \"HELLO!  My password:Raz\"\n",
        " \n",
        "#encrypted_message = rsa.encrypt(message.encode() , public_key)\n",
        "#print(encrypted_message)  \n",
        "\n",
        "#with open(\"encrypted.message\" , \"wb\") as f:\n",
        "  #f.write(encrypted_message)\n",
        "\n",
        "\n",
        "encrypted_message = open(\"encrypted.message\" , \"rb\").read()\n",
        "\n",
        "clear_message = rsa.decrypt(encrypted_message, private_key)\n",
        "print(clear_message.decode())"
      ],
      "metadata": {
        "colab": {
          "base_uri": "https://localhost:8080/"
        },
        "id": "hnkyEIm3Uqx7",
        "outputId": "51bb553b-db60-48b1-82ac-9fd4197fb609"
      },
      "execution_count": null,
      "outputs": [
        {
          "output_type": "stream",
          "name": "stdout",
          "text": [
            "HELLO!  My password:Raz\n"
          ]
        }
      ]
    },
    {
      "cell_type": "markdown",
      "source": [
        "At first I run commented part,\n",
        "but then for a message reason I change it to this and it return my message."
      ],
      "metadata": {
        "id": "3ZHPpxgbmqjS"
      }
    },
    {
      "cell_type": "code",
      "source": [
        "#message = \"HELLO!  My password:Raz\"\n",
        "\n",
        "signature = rsa.sign(message.encode(), private_key , \"SHA-256\")\n",
        "\n",
        "with open(\"signature\" , \"wb\") as f:\n",
        "  f.write(signature)\n"
      ],
      "metadata": {
        "id": "7KXXOC7KCb_A"
      },
      "execution_count": null,
      "outputs": []
    },
    {
      "cell_type": "code",
      "source": [
        "with open(\"signature\" , \"rb\") as f:\n",
        "  signature = f.read()  \n",
        "\n",
        "print(rsa.verify(message.encode() , signature , public_key ))  "
      ],
      "metadata": {
        "colab": {
          "base_uri": "https://localhost:8080/"
        },
        "id": "53-PQiiW_njG",
        "outputId": "b8d29445-e1ab-4fb5-ddf6-ef7a1299b6c4"
      },
      "execution_count": null,
      "outputs": [
        {
          "output_type": "stream",
          "name": "stdout",
          "text": [
            "SHA-256\n"
          ]
        }
      ]
    },
    {
      "cell_type": "markdown",
      "source": [
        "In this part;message is signed,and then verified it by showing the used algorithm(SHA-256)\n",
        "If you change something in message,we'll have an error that shows the sign isn't verified."
      ],
      "metadata": {
        "id": "Yj9SSo8d5RG0"
      }
    }
  ]
}