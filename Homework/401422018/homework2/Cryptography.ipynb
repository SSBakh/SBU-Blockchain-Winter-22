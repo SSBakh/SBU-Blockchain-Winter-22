{
  "nbformat": 4,
  "nbformat_minor": 0,
  "metadata": {
    "colab": {
      "provenance": [],
      "authorship_tag": "ABX9TyNAmoq/tv40lWpmGmJ5xZ52",
      "include_colab_link": true
    },
    "kernelspec": {
      "name": "python3",
      "display_name": "Python 3"
    },
    "language_info": {
      "name": "python"
    }
  },
  "cells": [
    {
      "cell_type": "markdown",
      "metadata": {
        "id": "view-in-github",
        "colab_type": "text"
      },
      "source": [
        "<a href=\"https://colab.research.google.com/github/mojtaba96/SBU-Blockchain-Winter-22/blob/401422018/Homework/401422018/homework2/Cryptography.ipynb\" target=\"_parent\"><img src=\"https://colab.research.google.com/assets/colab-badge.svg\" alt=\"Open In Colab\"/></a>"
      ]
    },
    {
      "cell_type": "markdown",
      "source": [
        "# Install [cryptography](https://https://pypi.org/project/cryptography/) library"
      ],
      "metadata": {
        "id": "t_hlhIQkhzrM"
      }
    },
    {
      "cell_type": "markdown",
      "source": [
        "[Read the Docs](https://https://cryptography.io/en/latest/)\n"
      ],
      "metadata": {
        "id": "yVxDiblCuA8h"
      }
    },
    {
      "cell_type": "code",
      "execution_count": null,
      "metadata": {
        "colab": {
          "base_uri": "https://localhost:8080/"
        },
        "id": "evEu5rsxcY1N",
        "outputId": "b2f125f0-8798-4250-e027-2bc794ca983b"
      },
      "outputs": [
        {
          "output_type": "stream",
          "name": "stdout",
          "text": [
            "Looking in indexes: https://pypi.org/simple, https://us-python.pkg.dev/colab-wheels/public/simple/\n",
            "Collecting cryptography\n",
            "  Downloading cryptography-38.0.3-cp36-abi3-manylinux_2_24_x86_64.whl (4.1 MB)\n",
            "\u001b[K     |████████████████████████████████| 4.1 MB 19.6 MB/s \n",
            "\u001b[?25hRequirement already satisfied: cffi>=1.12 in /usr/local/lib/python3.7/dist-packages (from cryptography) (1.15.1)\n",
            "Requirement already satisfied: pycparser in /usr/local/lib/python3.7/dist-packages (from cffi>=1.12->cryptography) (2.21)\n",
            "Installing collected packages: cryptography\n",
            "Successfully installed cryptography-38.0.3\n"
          ]
        }
      ],
      "source": [
        "!pip install cryptography"
      ]
    },
    {
      "cell_type": "markdown",
      "source": [
        "## Generate Private key and Publick key"
      ],
      "metadata": {
        "id": "i3TPiAT-h8lb"
      }
    },
    {
      "cell_type": "code",
      "source": [
        "from cryptography.hazmat.primitives.asymmetric import rsa\n",
        "\n",
        "private_key = rsa.generate_private_key(\n",
        "    public_exponent=65537,\n",
        "    key_size=2048,\n",
        ")\n",
        "\n",
        "public_key=private_key.public_key()"
      ],
      "metadata": {
        "id": "FmEtLh9SccC8"
      },
      "execution_count": 8,
      "outputs": []
    },
    {
      "cell_type": "markdown",
      "source": [
        "### Save private key and public key "
      ],
      "metadata": {
        "id": "UbAQ4Ms0kafj"
      }
    },
    {
      "cell_type": "markdown",
      "source": [
        "don't run this part if you don't need files of public/private key."
      ],
      "metadata": {
        "id": "LLGdl0DHODAg"
      }
    },
    {
      "cell_type": "code",
      "source": [
        "from cryptography.hazmat.primitives import serialization\n",
        "\n",
        "pem = private_key.private_bytes(\n",
        "   encoding=serialization.Encoding.PEM,\n",
        "   format=serialization.PrivateFormat.TraditionalOpenSSL,\n",
        "   encryption_algorithm=serialization.NoEncryption()\n",
        ")\n",
        "pem.splitlines()[0]\n",
        "#print(pem)\n",
        "\n",
        "#save\n",
        "with open('private.pem', 'wb') as pem_out:\n",
        "        pem_out.write(pem)\n",
        "\n",
        "#files.download('private.pem')"
      ],
      "metadata": {
        "id": "uq3Owehg0ER7"
      },
      "execution_count": 9,
      "outputs": []
    },
    {
      "cell_type": "code",
      "source": [
        "pem = public_key.public_bytes(\n",
        "   encoding=serialization.Encoding.PEM,\n",
        "   format=serialization.PublicFormat.SubjectPublicKeyInfo\n",
        ")\n",
        "pem.splitlines()[0]\n",
        "#print(pem)\n",
        "\n",
        "#save\n",
        "with open('public.pem', 'wb') as pem_out:\n",
        "        pem_out.write(pem)\n",
        "\n",
        "#files.download('public.pem')"
      ],
      "metadata": {
        "id": "lez2ughU3OwD"
      },
      "execution_count": 10,
      "outputs": []
    },
    {
      "cell_type": "markdown",
      "source": [
        "### Key loading"
      ],
      "metadata": {
        "id": "IlGAP82qOxYT"
      }
    },
    {
      "cell_type": "markdown",
      "source": [
        "If you already have an on-disk key in the PEM format you can load it.\n",
        "\n",
        "it can be used for verification part."
      ],
      "metadata": {
        "id": "i3cNxR8cPYyg"
      }
    },
    {
      "cell_type": "code",
      "source": [
        "from cryptography.hazmat.primitives import serialization\n",
        "\n",
        "with open(\"private.pem\", \"rb\") as key_file:\n",
        "    private_key = serialization.load_pem_private_key(\n",
        "        key_file.read(),\n",
        "        password=None,\n",
        "    )"
      ],
      "metadata": {
        "id": "8tzMAWaDO0R7"
      },
      "execution_count": null,
      "outputs": []
    },
    {
      "cell_type": "markdown",
      "source": [
        "### Signing"
      ],
      "metadata": {
        "id": "EXgEV9j1tdME"
      }
    },
    {
      "cell_type": "code",
      "source": [
        "from cryptography.hazmat.primitives import hashes\n",
        "from cryptography.hazmat.primitives.asymmetric import padding\n",
        "\n",
        "message = b\"Moji is here:)\"\n",
        "\n",
        "signature = private_key.sign(\n",
        "  message,\n",
        "  padding.PSS(\n",
        "    mgf=padding.MGF1(hashes.SHA256()),\n",
        "    salt_length=padding.PSS.MAX_LENGTH\n",
        "  ),\n",
        "  hashes.SHA256()\n",
        ")\n",
        "#print(signature)\n",
        "#print(signature.hex())"
      ],
      "metadata": {
        "id": "O53LmGZooS5o"
      },
      "execution_count": 16,
      "outputs": []
    },
    {
      "cell_type": "markdown",
      "source": [
        "### Verification"
      ],
      "metadata": {
        "id": "bhXN-UrOttHS"
      }
    },
    {
      "cell_type": "markdown",
      "source": [
        "if u want to check `verify` part is working correctly, you can change every one of the arguments (`signiture`, `messagem`, `publick key`) and run the code.\n",
        "bold text\n",
        "the easiest way is to change a `message`. just paste this one simple line code at the first of verification part.\n",
        "\n",
        "`message = b\"Let's test it\"`"
      ],
      "metadata": {
        "id": "cteqHrZsHflg"
      }
    },
    {
      "cell_type": "code",
      "source": [
        "\n",
        "try:\n",
        "  public_key.verify(\n",
        "    signature,\n",
        "    message,\n",
        "    padding.PSS(\n",
        "        mgf=padding.MGF1(hashes.SHA256()),\n",
        "        salt_length=padding.PSS.MAX_LENGTH\n",
        "    ),\n",
        "    hashes.SHA256()\n",
        "  )\n",
        "  print('signiture is valid')\n",
        "except:\n",
        "  print('Invalid Signature')\n"
      ],
      "metadata": {
        "id": "5GaRN66ooepK",
        "colab": {
          "base_uri": "https://localhost:8080/"
        },
        "outputId": "e89501ef-d466-4f78-ff91-e6b5953c747b"
      },
      "execution_count": 17,
      "outputs": [
        {
          "output_type": "stream",
          "name": "stdout",
          "text": [
            "signiture is valid\n"
          ]
        }
      ]
    },
    {
      "cell_type": "markdown",
      "source": [
        "## Mine a block"
      ],
      "metadata": {
        "id": "W1Br_U7Uu61A"
      }
    },
    {
      "cell_type": "markdown",
      "source": [
        "Mining a block contain block number, data and nonce.\n",
        "\n",
        "`difficulty` means the number of zeros at the beginning of the target hash."
      ],
      "metadata": {
        "id": "Rkp6JGZt-Z7A"
      }
    },
    {
      "cell_type": "code",
      "source": [
        "from cryptography.hazmat.primitives import hashes\n",
        "\n",
        "number = 1\n",
        "data = 'Mojtaba'\n",
        "nonce = 0\n",
        "\n",
        "difficulty = 4\n",
        "\n",
        "while True:\n",
        "  digest = hashes.Hash(hashes.SHA256())\n",
        "  digest.update(bytes(str(number), 'utf-8'))\n",
        "  digest.update(bytes(str(data), 'utf-8'))\n",
        "  digest.update(bytes(str(nonce), 'utf-8'))\n",
        "  hash = digest.finalize().hex()\n",
        "  if hash[:difficulty] == \"0\" * difficulty:\n",
        "    print(\"Block#: \", number, \"\\nData: \", data, \"\\nNonce: \", nonce, \"\\nHash: \", hash)\n",
        "    break\n",
        "  else:\n",
        "    nonce += 1\n"
      ],
      "metadata": {
        "colab": {
          "base_uri": "https://localhost:8080/"
        },
        "id": "9-YX9Rn5-aLg",
        "outputId": "74493109-55cb-4f63-86d5-d0ccf33463d5"
      },
      "execution_count": 18,
      "outputs": [
        {
          "output_type": "stream",
          "name": "stdout",
          "text": [
            "Block#:  1 \n",
            "Data:  Mojtaba \n",
            "Nonce:  60802 \n",
            "Hash:  0000d7d561fcf820da052a220ee5968d398f45a57292fbc9e58501a48d16bbea\n"
          ]
        }
      ]
    }
  ]
}