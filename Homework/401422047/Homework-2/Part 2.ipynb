{
 "cells": [
  {
   "cell_type": "code",
   "execution_count": 18,
   "metadata": {},
   "outputs": [],
   "source": [
    "# use hashlib library for hashing\n",
    "from hashlib import sha256\n",
    "#function for mine a block\n",
    "def minner(block,info,number_of_zeros):\n",
    "  n_zero='0'*number_of_zeros\n",
    "  for nonce in range(NONCE_RANGE):\n",
    "    hash = sha256(str(block)+info\n",
    "                  +str(nonce).encode(\"ascii\")).hexdigest()\n",
    "    if hash.startswith(number_of_zeros):\n",
    "      print(\"Nonce is: \", nonce)\n",
    "      return hash\n",
    "  print(\"There is no hash in this nonce range: \", NONCE_RANGE)"
   ]
  },
  {
   "cell_type": "code",
   "execution_count": 19,
   "metadata": {},
   "outputs": [
    {
     "name": "stdout",
     "output_type": "stream",
     "text": [
      "block mined with nonce value:  119527\n",
      "Hash value :  000007662df68dc6ab2324a5712bdf2b73c2741fa5b429bcd7212568f5c337dd\n"
     ]
    }
   ],
   "source": [
    "#call function to test it\n",
    "NONCE_RANGE = 1000000\n",
    "block = 684201\n",
    "info = \".sha256('text input').hex().\"\n",
    "n_of_zeros = 4\n",
    "print(\"Hash value : \",mine(block, info, n_of_zeros))"
   ]
  }
 ],
 "metadata": {
  "kernelspec": {
   "display_name": "Python 3",
   "language": "python",
   "name": "python3"
  }
 },
 "nbformat": 4,
 "nbformat_minor": 4
}
