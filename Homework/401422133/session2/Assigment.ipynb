{
 "cells": [
  {
   "cell_type": "code",
   "execution_count": null,
   "metadata": {},
   "outputs": [],
   "source": [
    "%pip install pycryptodome"
   ]
  },
  {
   "cell_type": "code",
   "execution_count": null,
   "metadata": {},
   "outputs": [],
   "source": [
    "%pip show pycryptodome"
   ]
  },
  {
   "cell_type": "markdown",
   "metadata": {},
   "source": [
    "# **First Assigment**"
   ]
  },
  {
   "cell_type": "markdown",
   "metadata": {},
   "source": [
    "**signing a message with RSA and checking validation**"
   ]
  },
  {
   "cell_type": "code",
   "execution_count": 1,
   "metadata": {},
   "outputs": [
    {
     "name": "stdout",
     "output_type": "stream",
     "text": [
      "Signature: b'09e19e15e81a29dbfae77194d8d3ca75164ab4838742434e9342055d280609ee714b3480280ad0c76ad8d58cb820857f4830ecb1fbecde2428940a2fa66d3d1ffad51ec9a9fb9cad82413a809debacfe9b1918cce4b0bea22d46498e5226ad66592b42f5fd2d89b865f99241426c14188f48a76363acbcf35d168c3b0b7a02bc'\n",
      "Signature is valid.\n",
      "Signature is invalid.\n"
     ]
    }
   ],
   "source": [
    "from Crypto.PublicKey import RSA\n",
    "from Crypto.Signature.pkcs1_15 import PKCS115_SigScheme\n",
    "from Crypto.Hash import SHA256\n",
    "import binascii\n",
    "\n",
    "# Generate 1024-bit RSA key pair (private + public key)\n",
    "keyPair = RSA.generate(bits=1024)\n",
    "pubKey = keyPair.publickey() # extracting our public key from the pair we created\n",
    "\n",
    "\n",
    "# Sign the message\n",
    "def sign(msg):\n",
    "    global signature\n",
    "    valid_message = SHA256.new(bytes(msg,'utf-8')) # convert string to hash\n",
    "    signer = PKCS115_SigScheme(keyPair) # we create an object from PKCS115_SigScheme class so we could use its method on it\n",
    "    signature = signer.sign(valid_message) # sign the message that has been converted to a hash\n",
    "    print(\"Signature:\", binascii.hexlify(signature)) # just checking Signature hash\n",
    " \n",
    "\n",
    "def validation(message):\n",
    "    hash = SHA256.new(bytes(message,'utf-8')) # convert string to hash\n",
    "    verifier = PKCS115_SigScheme(pubKey) # create an object from PKCS115_SigScheme class so we could use its method on it\n",
    "    try: # checking validation\n",
    "        verifier.verify(hash,signature)\n",
    "        print(\"Signature is valid.\")\n",
    "    except:\n",
    "        print(\"Signature is invalid.\")\n",
    "\n",
    "\n",
    "        \n",
    "sign(\"Message for RSA signing\")\n",
    "validation(\"Message for RSA signing\")\n",
    "validation(\"salam\")"
   ]
  },
  {
   "cell_type": "markdown",
   "metadata": {},
   "source": [
    "----"
   ]
  },
  {
   "cell_type": "markdown",
   "metadata": {},
   "source": [
    "-----"
   ]
  },
  {
   "cell_type": "markdown",
   "metadata": {},
   "source": [
    "# **Second Assigment**"
   ]
  },
  {
   "cell_type": "markdown",
   "metadata": {},
   "source": [
    "**Simulate mining a block**"
   ]
  },
  {
   "cell_type": "code",
   "execution_count": 3,
   "metadata": {},
   "outputs": [
    {
     "name": "stdout",
     "output_type": "stream",
     "text": [
      "0000a456e7b5a5eb059e721fb431436883143101275c4077f83fe70298f5623d\n",
      "88485\n"
     ]
    }
   ],
   "source": [
    "# Simulate a block \n",
    "y = 0  # passing the variable “y” through hashing function\n",
    "found = 0 \n",
    "while found == 0: # If the first four digits equal 0000 then exit the loop by setting the found variable to 1\n",
    "    acceptable_hash = hashlib.sha256(str(y).encode()).hexdigest()\n",
    "    if acceptable_hash[:4]==\"0000\":\n",
    "        found = 1\n",
    "    y += 1 \n",
    "print(acceptable_hash) # acceptable hash value\n",
    "print(y) # iterations"
   ]
  },
  {
   "cell_type": "code",
   "execution_count": 4,
   "metadata": {},
   "outputs": [
    {
     "name": "stdout",
     "output_type": "stream",
     "text": [
      "00006efd098a9ca3bb42f29205ce0fe3960d3e048914387400793a264f85cd54\n",
      "25296\n"
     ]
    }
   ],
   "source": [
    "block = 1\n",
    "NONCE = 0\n",
    "data = \"Heshmat = 10000 Rial\"\n",
    "previousHash = acceptable_hash\n",
    "\n",
    "#combining the block number, nonce, data, and previous hash of simulated block and passing it through encryption function.\n",
    "\n",
    "found = 0 \n",
    "while found == 0: # passing block through the hashing function until finding the Nonce that gives me a hash below the target.\n",
    "    z = str(block) + str(NONCE) + data + previousHash\n",
    "    newHash = hashlib.sha256(z.encode()).hexdigest()\n",
    "    if newHash[:4]==\"0000\":\n",
    "        found = 1\n",
    "    NONCE += 1\n",
    "\n",
    "print(newHash) # acceptable hash value\n",
    "print(NONCE) # NONCE of Mining process"
   ]
  }
 ],
 "metadata": {
  "kernelspec": {
   "display_name": "Python 3.11.0 64-bit",
   "language": "python",
   "name": "python3"
  },
  "language_info": {
   "codemirror_mode": {
    "name": "ipython",
    "version": 3
   },
   "file_extension": ".py",
   "mimetype": "text/x-python",
   "name": "python",
   "nbconvert_exporter": "python",
   "pygments_lexer": "ipython3",
   "version": "3.11.0"
  },
  "orig_nbformat": 4,
  "vscode": {
   "interpreter": {
    "hash": "4bb605657835c542d08082fe69840949598d8fca054fb5ddb49badec80e21e1f"
   }
  }
 },
 "nbformat": 4,
 "nbformat_minor": 2
}
