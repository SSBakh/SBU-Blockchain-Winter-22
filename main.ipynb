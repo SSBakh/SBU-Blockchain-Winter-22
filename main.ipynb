{
  "metadata": {
    "language_info": {
      "codemirror_mode": {
        "name": "python",
        "version": 3
      },
      "file_extension": ".py",
      "mimetype": "text/x-python",
      "name": "python",
      "nbconvert_exporter": "python",
      "pygments_lexer": "ipython3",
      "version": "3.8"
    },
    "kernelspec": {
      "name": "python",
      "display_name": "Python (Pyodide)",
      "language": "python"
    }
  },
  "nbformat_minor": 4,
  "nbformat": 4,
  "cells": [
    {
      "cell_type": "code",
      "source": "# Import Block and Crypto Classes\nimport Block\nimport Crypto\n\n# While loop for a menu\n# If you enter 1 generate RSA key pair\n# If you enter 2 Sign a text with private key\n# If you enter 3 Verify message and signature\n# If you enter 4 Mine single block\n# If you enter 0 exit\nwhile True:\n    inp = int(input(\"\"\"    1. Generate RSA key pair\n    2. Sign a text with private key\n    3. Verify message and signature\n    4. Mine single block\n    0. exit \"\"\"))\n    if inp == 1:\n        Crypto.Crypto().generateRsaKeys()\n    if inp == 2:\n        private_key = input('Enter your private key file name: ')\n        message = input('Enter your message: ')\n        print(Crypto.Crypto().signing(private_key, message))\n    if inp == 3:\n        public_key = input('Enter your public key file name: ')\n        message = input('Enter your message: ')\n        signature = input('Enter your signature: ')\n        Crypto.Crypto().verify(message, public_key, signature)\n    if inp == 4:\n        block = input(\"Enter block number: \")\n        data = input(\"Enter data: \")\n        mined = Block.Block().mine(block, data)\n        print(f\"Nonce is: {mined['nonce']}\\nHash is {mined['hash']}\")\n    if inp == 0:\n        break",
      "metadata": {},
      "execution_count": null,
      "outputs": []
    }
  ]
}